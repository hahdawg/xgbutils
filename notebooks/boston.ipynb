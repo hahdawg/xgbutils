{
 "cells": [
  {
   "cell_type": "code",
   "execution_count": 8,
   "metadata": {
    "collapsed": false
   },
   "outputs": [],
   "source": [
    "from hyperopt import hp\n",
    "from sklearn.datasets import load_boston\n",
    "from sklearn.ensemble import RandomForestRegressor\n",
    "from sklearn.metrics import mean_absolute_error\n",
    "from sklearn.model_selection import train_test_split\n",
    "import xgboost as xgb\n",
    "\n",
    "from xgbutils import model_selection"
   ]
  },
  {
   "cell_type": "code",
   "execution_count": 2,
   "metadata": {
    "collapsed": false
   },
   "outputs": [],
   "source": [
    "data = load_boston()\n",
    "X = DataFrame(data[\"data\"], columns=data[\"feature_names\"])\n",
    "y = Series(data[\"target\"])\n",
    "\n",
    "X_tr, X_te, y_tr, y_te = train_test_split(X, y, test_size=0.25)\n",
    "\n",
    "dtrain = xgb.DMatrix(data=X_tr, label=y_tr, feature_names=X_tr.columns)\n",
    "dtest = xgb.DMatrix(data=X_te, label=y_te, feature_names=X_te.columns)"
   ]
  },
  {
   "cell_type": "code",
   "execution_count": 3,
   "metadata": {
    "collapsed": false
   },
   "outputs": [],
   "source": [
    "param_space = {\"max_depth\": hp.quniform(\"max_depth\", 2, 20, 1),\n",
    "               \"subsample\": hp.quniform(\"subsample\", 0.5, 1.0, 0.05),\n",
    "               \"min_child_weight\": hp.quniform(\"min_child_weight\", 0.0, 10.0, 0.1),\n",
    "               \"colsample_by_tree\": hp.quniform(\"colsample_by_tree\", 0.25, 1.0, 0.05)}\n",
    " \n",
    "common_params = {\"params\": {\"eta\": 0.1}, \"num_boost_round\": 5000, \n",
    "                 \"early_stopping_rounds\": 50, \"verbose_eval\": False}\n",
    "\n",
    "fit_params = dict(common_params.items() + {\"evals\": [(dtrain, \"train\")]}.items())\n",
    "cv_params = dict(common_params.items() + {\"nfold\": 8, \"metrics\": \"mae\"}.items())"
   ]
  },
  {
   "cell_type": "code",
   "execution_count": 4,
   "metadata": {
    "collapsed": false
   },
   "outputs": [
    {
     "name": "stdout",
     "output_type": "stream",
     "text": [
      "{'evals': [(<xgboost.core.DMatrix object at 0x7ff1fa464b10>, 'train')], 'num_boost_round': 192, 'params': {'subsample': 0.55, 'colsample_by_tree': 0.35000000000000003, 'eta': 0.1, 'max_depth': 4, 'min_child_weight': 1.3}, 'early_stopping_rounds': 50, 'verbose_eval': False}\n"
     ]
    }
   ],
   "source": [
    "pscv = model_selection.ParamSearchCV(param_space=param_space, num_evals=50, cv_metric=\"mae\",\n",
    "                                     fit_params=fit_params, cv_params=cv_params)\n",
    "pscv.fit(dtrain)\n",
    "print pscv.fit_params\n",
    "y_hat_gbm = pscv.predict(dtest)"
   ]
  },
  {
   "cell_type": "code",
   "execution_count": 5,
   "metadata": {
    "collapsed": false
   },
   "outputs": [],
   "source": [
    "rf = RandomForestRegressor(n_estimators=1000, n_jobs=-1)\n",
    "rf.fit(X_tr, y_tr)\n",
    "y_hat_rf = rf.predict(X_te)"
   ]
  },
  {
   "cell_type": "code",
   "execution_count": 9,
   "metadata": {
    "collapsed": false
   },
   "outputs": [
    {
     "name": "stdout",
     "output_type": "stream",
     "text": [
      "GBM loss: 2.35\n",
      "RF loss: 2.39\n"
     ]
    }
   ],
   "source": [
    "print \"GBM loss: %0.2f\" % mean_absolute_error(y_te, y_hat_gbm)\n",
    "print \"RF loss: %0.2f\" % mean_absolute_error(y_te, y_hat_rf)"
   ]
  },
  {
   "cell_type": "code",
   "execution_count": null,
   "metadata": {
    "collapsed": true
   },
   "outputs": [],
   "source": []
  }
 ],
 "metadata": {
  "kernelspec": {
   "display_name": "Python 2",
   "language": "python",
   "name": "python2"
  },
  "language_info": {
   "codemirror_mode": {
    "name": "ipython",
    "version": 2
   },
   "file_extension": ".py",
   "mimetype": "text/x-python",
   "name": "python",
   "nbconvert_exporter": "python",
   "pygments_lexer": "ipython2",
   "version": "2.7.12"
  }
 },
 "nbformat": 4,
 "nbformat_minor": 0
}
